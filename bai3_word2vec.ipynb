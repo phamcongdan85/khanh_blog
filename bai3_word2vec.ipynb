{
 "cells": [
  {
   "cell_type": "code",
   "execution_count": 10,
   "metadata": {},
   "outputs": [
    {
     "name": "stdout",
     "output_type": "stream",
     "text": [
      "Class of words: ['anh' 'bạn bè' 'em' 'gia đình']\n",
      "Convert to number:  [0 2 3 1 0 2]\n",
      "Convert to classes:  ['anh' 'em' 'gia đình' 'bạn bè' 'anh' 'em']\n"
     ]
    }
   ],
   "source": [
    "from sklearn.preprocessing import LabelEncoder\n",
    "\n",
    "le = LabelEncoder()\n",
    "words = [\"anh\", 'em', 'gia đình', 'bạn bè','anh', 'em']\n",
    "le.fit(words)\n",
    "\n",
    "print('Class of words:', le.classes_)\n",
    "\n",
    "# Dua ve dinh dang so\n",
    "x = le.transform(words)\n",
    "print('Convert to number: ', x)\n",
    "\n",
    "# Bien doi sang class:\n",
    "print('Convert to classes: ', le.inverse_transform(x))"
   ]
  },
  {
   "cell_type": "markdown",
   "metadata": {},
   "source": [
    "## OnhotEncoder"
   ]
  },
  {
   "cell_type": "code",
   "execution_count": 11,
   "metadata": {},
   "outputs": [],
   "source": [
    "from sklearn.preprocessing import OneHotEncoder\n"
   ]
  },
  {
   "cell_type": "code",
   "execution_count": null,
   "metadata": {},
   "outputs": [],
   "source": []
  }
 ],
 "metadata": {
  "kernelspec": {
   "display_name": ",venv",
   "language": "python",
   "name": "python3"
  },
  "language_info": {
   "codemirror_mode": {
    "name": "ipython",
    "version": 3
   },
   "file_extension": ".py",
   "mimetype": "text/x-python",
   "name": "python",
   "nbconvert_exporter": "python",
   "pygments_lexer": "ipython3",
   "version": "3.8.10"
  }
 },
 "nbformat": 4,
 "nbformat_minor": 2
}
