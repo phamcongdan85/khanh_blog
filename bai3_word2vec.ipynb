{
 "cells": [
  {
   "cell_type": "code",
   "execution_count": 1,
   "metadata": {},
   "outputs": [
    {
     "name": "stdout",
     "output_type": "stream",
     "text": [
      "Class of words: ['anh' 'bạn bè' 'em' 'gia đình']\n",
      "Convert to number:  [0 2 3 1 0 2]\n",
      "Convert to classes:  ['anh' 'em' 'gia đình' 'bạn bè' 'anh' 'em']\n"
     ]
    }
   ],
   "source": [
    "from sklearn.preprocessing import LabelEncoder\n",
    "\n",
    "le = LabelEncoder()\n",
    "words = [\"anh\", 'em', 'gia đình', 'bạn bè','anh', 'em']\n",
    "le.fit(words)\n",
    "\n",
    "print('Class of words:', le.classes_)\n",
    "\n",
    "# Dua ve dinh dang so\n",
    "x = le.transform(words)\n",
    "print('Convert to number: ', x)\n",
    "\n",
    "# Bien doi sang class:\n",
    "print('Convert to classes: ', le.inverse_transform(x))"
   ]
  },
  {
   "cell_type": "markdown",
   "metadata": {},
   "source": [
    "## OnhotEncoder"
   ]
  },
  {
   "cell_type": "code",
   "execution_count": 2,
   "metadata": {},
   "outputs": [
    {
     "name": "stdout",
     "output_type": "stream",
     "text": [
      "classes_indices:  [('anh', 0), ('bạn bè', 1), ('em', 2), ('gia đình', 3)]\n",
      "One-hot categories and indices: [array(['anh', 'bạn bè', 'em', 'gia đình'], dtype=object), array([0, 1, 2, 3], dtype=object)]\n",
      "words and corresponding indices:  [('anh', 0), ('em', 2), ('gia đình', 3), ('bạn bè', 1), ('anh', 0), ('em', 2)]\n",
      "Tranform words into one-hot matricesL \n",
      " [[1. 0. 0. 0. 1. 0. 0. 0.]\n",
      " [0. 0. 1. 0. 0. 0. 1. 0.]\n",
      " [0. 0. 0. 1. 0. 0. 0. 1.]\n",
      " [0. 1. 0. 0. 0. 1. 0. 0.]\n",
      " [1. 0. 0. 0. 1. 0. 0. 0.]\n",
      " [0. 0. 1. 0. 0. 0. 1. 0.]]\n",
      "Inverse transform to categories from one hot matrices: \n",
      " [['anh' 0]\n",
      " ['em' 2]\n",
      " ['gia đình' 3]\n",
      " ['bạn bè' 1]\n",
      " ['anh' 0]\n",
      " ['em' 2]]\n"
     ]
    }
   ],
   "source": [
    "from sklearn.preprocessing import OneHotEncoder\n",
    "import numpy as np\n",
    "\n",
    "oh = OneHotEncoder()\n",
    "\n",
    "\n",
    "classes_indices = list(zip(le.classes_, np.arange(len(le.classes_))))\n",
    "print('classes_indices: ', classes_indices)\n",
    "\n",
    "oh.fit(classes_indices)\n",
    "print('One-hot categories and indices:', oh.categories_)\n",
    "\n",
    "# list words to onehot\n",
    "words_indices = list(zip(words,x))\n",
    "print('words and corresponding indices: ', words_indices)\n",
    "one_hot = oh.transform(words_indices).toarray()\n",
    "print('Tranform words into one-hot matricesL \\n', one_hot)\n",
    "print('Inverse transform to categories from one hot matrices: \\n', oh.inverse_transform(one_hot))"
   ]
  },
  {
   "cell_type": "code",
   "execution_count": 3,
   "metadata": {},
   "outputs": [
    {
     "name": "stdout",
     "output_type": "stream",
     "text": [
      "tokenization of sentences:  ['Khoa học', 'dữ liệu', 'là', 'một', 'lĩnh vực', 'đòi hỏi', 'kiến thức', 'về', 'toán', 'và', 'lập trình', '.', 'Tôi', 'rất', 'yêu thích', 'Khoa học', 'dữ liệu', '.']\n"
     ]
    }
   ],
   "source": [
    "import scipy.linalg as ln \n",
    "import numpy as np \n",
    "from underthesea import word_tokenize\n",
    "\n",
    "# sentence = 'Khoa học dữ liệu là một lĩnh vực đòi hỏi kiến thức về toán và lập trình. Tôi rất yêu thích Khoa học dữ liệu.'\n",
    "sentence = 'Khoa học dữ liệu là một lĩnh vực đòi hỏi kiến thức về toán và lập trình. Tôi rất yêu thích Khoa học dữ liệu.'\n",
    "\n",
    "token = word_tokenize(sentence)\n",
    "print('tokenization of sentences: ', token)"
   ]
  },
  {
   "cell_type": "code",
   "execution_count": 4,
   "metadata": {},
   "outputs": [
    {
     "data": {
      "text/plain": [
       "array([[0, 2, 0, 0, 0, 0, 0, 0, 0, 0, 0, 0, 0, 0, 0],\n",
       "       [0, 0, 1, 0, 0, 0, 0, 0, 0, 0, 0, 0, 0, 0, 0],\n",
       "       [0, 0, 0, 1, 0, 0, 0, 0, 0, 0, 0, 0, 0, 0, 0],\n",
       "       [0, 0, 0, 0, 1, 0, 0, 0, 0, 0, 0, 0, 0, 0, 0],\n",
       "       [0, 0, 0, 0, 0, 1, 0, 0, 0, 0, 0, 0, 0, 0, 0],\n",
       "       [0, 0, 0, 0, 0, 0, 1, 0, 0, 0, 0, 0, 0, 0, 0],\n",
       "       [0, 0, 0, 0, 0, 0, 0, 1, 0, 0, 0, 0, 0, 0, 0],\n",
       "       [0, 0, 0, 0, 0, 0, 0, 0, 1, 0, 0, 0, 0, 0, 0],\n",
       "       [0, 0, 0, 0, 0, 0, 0, 0, 0, 1, 0, 0, 0, 0, 0],\n",
       "       [0, 0, 0, 0, 0, 0, 0, 0, 0, 0, 1, 0, 0, 0, 0],\n",
       "       [0, 0, 0, 0, 0, 0, 0, 0, 0, 0, 0, 0, 0, 0, 0],\n",
       "       [0, 0, 0, 0, 0, 0, 0, 0, 0, 0, 0, 0, 1, 0, 0],\n",
       "       [0, 0, 0, 0, 0, 0, 0, 0, 0, 0, 0, 0, 0, 1, 0],\n",
       "       [0, 0, 0, 0, 0, 0, 0, 0, 0, 0, 0, 0, 0, 0, 1],\n",
       "       [0, 0, 0, 0, 0, 0, 0, 0, 0, 0, 0, 0, 0, 0, 0]])"
      ]
     },
     "execution_count": 4,
     "metadata": {},
     "output_type": "execute_result"
    }
   ],
   "source": [
    "from scipy.sparse import coo_matrix\n",
    "# tao ma tran spare\n",
    "row = [0,1,2,3,4,5,6,7,8,9,11,12,13]\n",
    "col = [1,2,3,4,5,6,7,8,9,10,12,13,14]\n",
    "data = [2,1,1,1,1,1,1,1,1,1,1,1,1]\n",
    "X = coo_matrix((data, (row, col)), shape = (15,15)).toarray()\n",
    "X"
   ]
  },
  {
   "cell_type": "code",
   "execution_count": 5,
   "metadata": {},
   "outputs": [
    {
     "name": "stdout",
     "output_type": "stream",
     "text": [
      "Shape of U:  (15, 15)\n",
      "Length of diagonal:  15\n",
      "Shape of V:  (15, 15)\n"
     ]
    }
   ],
   "source": [
    "# Pha tich suy bien\n",
    "U, S_diag, V = ln.svd(X)\n",
    "\n",
    "print('Shape of U: ', U.shape)\n",
    "print('Length of diagonal: ', len(S_diag))\n",
    "print('Shape of V: ', V.shape)"
   ]
  },
  {
   "cell_type": "code",
   "execution_count": 7,
   "metadata": {},
   "outputs": [
    {
     "name": "stdout",
     "output_type": "stream",
     "text": [
      "S truncate: \n",
      " [[2. 0. 0. 0. 0. 0. 0. 0. 0. 0. 0. 0. 0. 0. 0.]\n",
      " [0. 1. 0. 0. 0. 0. 0. 0. 0. 0. 0. 0. 0. 0. 0.]\n",
      " [0. 0. 1. 0. 0. 0. 0. 0. 0. 0. 0. 0. 0. 0. 0.]\n",
      " [0. 0. 0. 1. 0. 0. 0. 0. 0. 0. 0. 0. 0. 0. 0.]\n",
      " [0. 0. 0. 0. 1. 0. 0. 0. 0. 0. 0. 0. 0. 0. 0.]\n",
      " [0. 0. 0. 0. 0. 1. 0. 0. 0. 0. 0. 0. 0. 0. 0.]]\n",
      "Word Embeding 6 dimensionality: \n",
      " [[0. 2. 0. 0. 0. 0. 0. 0. 0. 0. 0. 0. 0. 0. 0.]\n",
      " [0. 0. 0. 1. 0. 0. 0. 0. 0. 0. 0. 0. 0. 0. 0.]\n",
      " [0. 0. 0. 0. 1. 0. 0. 0. 0. 0. 0. 0. 0. 0. 0.]\n",
      " [0. 0. 0. 0. 0. 1. 0. 0. 0. 0. 0. 0. 0. 0. 0.]\n",
      " [0. 0. 0. 0. 0. 0. 1. 0. 0. 0. 0. 0. 0. 0. 0.]\n",
      " [0. 0. 0. 0. 0. 0. 0. 1. 0. 0. 0. 0. 0. 0. 0.]]\n"
     ]
    }
   ],
   "source": [
    "import numpy as np\n",
    "S_truncate = np.zeros(shape=(6,15))\n",
    "np.fill_diagonal(S_truncate, S_diag[:6])\n",
    "print('S truncate: \\n', S_truncate)\n",
    "print('Word Embeding 6 dimensionality: \\n', np.dot(S_truncate, V))"
   ]
  }
 ],
 "metadata": {
  "kernelspec": {
   "display_name": ",venv",
   "language": "python",
   "name": "python3"
  },
  "language_info": {
   "codemirror_mode": {
    "name": "ipython",
    "version": 3
   },
   "file_extension": ".py",
   "mimetype": "text/x-python",
   "name": "python",
   "nbconvert_exporter": "python",
   "pygments_lexer": "ipython3",
   "version": "3.8.10"
  }
 },
 "nbformat": 4,
 "nbformat_minor": 2
}
